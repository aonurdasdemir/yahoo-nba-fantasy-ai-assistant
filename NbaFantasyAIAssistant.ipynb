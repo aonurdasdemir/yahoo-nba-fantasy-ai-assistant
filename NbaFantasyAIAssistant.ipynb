{
  "nbformat": 4,
  "nbformat_minor": 0,
  "metadata": {
    "colab": {
      "provenance": [],
      "authorship_tag": "ABX9TyPwZo1kCGJs7NuM8ZzHGqAT",
      "include_colab_link": true
    },
    "kernelspec": {
      "name": "python3",
      "display_name": "Python 3"
    },
    "language_info": {
      "name": "python"
    }
  },
  "cells": [
    {
      "cell_type": "markdown",
      "metadata": {
        "id": "view-in-github",
        "colab_type": "text"
      },
      "source": [
        "<a href=\"https://colab.research.google.com/github/aonurdasdemir/yahoo-nba-fantasy-ai-assistant/blob/main/NbaFantasyAIAssistant.ipynb\" target=\"_parent\"><img src=\"https://colab.research.google.com/assets/colab-badge.svg\" alt=\"Open In Colab\"/></a>"
      ]
    },
    {
      "cell_type": "code",
      "execution_count": null,
      "metadata": {
        "id": "kefj0040r38L"
      },
      "outputs": [],
      "source": [
        "!pip install requests oauthlib transformers"
      ]
    },
    {
      "cell_type": "code",
      "source": [
        "import json\n",
        "import requests\n",
        "from oauthlib.oauth2 import BackendApplicationClient\n",
        "from requests_oauthlib import OAuth2Session\n",
        "from datetime import datetime, timedelta"
      ],
      "metadata": {
        "id": "Td4ibJ9ksG5M"
      },
      "execution_count": null,
      "outputs": []
    },
    {
      "cell_type": "code",
      "source": [
        "def fetch_team_players(league_id, team_id, access_token):\n",
        "    \"\"\"\n",
        "    Fetches the player IDs of the players in the given fantasy team.\n",
        "\n",
        "    :param league_id: Yahoo Fantasy League ID\n",
        "    :param team_id: Yahoo Fantasy Team ID\n",
        "    :param access_token: OAuth2 access token\n",
        "    :return: List of player IDs in the team\n",
        "    \"\"\"\n",
        "    url = f\"https://fantasysports.yahooapis.com/fantasy/v2/team/nba.l.{league_id}.t.{team_id}/roster/players?format=json\"\n",
        "\n",
        "    headers = {\n",
        "        \"Authorization\": f\"Bearer {access_token}\",\n",
        "        \"Accept\": \"application/json\"\n",
        "    }\n",
        "\n",
        "    response = requests.get(url, headers=headers)\n",
        "    if response.status_code != 200:\n",
        "        print(f\"Error {response.status_code}: {response.text}\")\n",
        "        return None  # Return None if there's an error\n",
        "\n",
        "    team_data = response.json()\n",
        "\n",
        "    # Extract player IDs\n",
        "    player_ids = []\n",
        "    try:\n",
        "        players = team_data[\"fantasy_content\"][\"team\"][1][\"roster\"][\"0\"][\"players\"]\n",
        "        for player_entry in players.values():\n",
        "            if isinstance(player_entry, dict) and \"player\" in player_entry:\n",
        "                player_info = player_entry[\"player\"]\n",
        "                player_id = player_info[0][0][\"player_key\"]\n",
        "                player_ids.append(player_id)\n",
        "    except KeyError:\n",
        "        print(\"Error parsing team player data.\")\n",
        "        return None\n",
        "\n",
        "    return player_ids\n",
        "\n",
        "def fetch_top_player_keys(league_id, access_token, sort=\"AR\", status=\"A\", count=50):\n",
        "    \"\"\"\n",
        "    Fetches the first `count` player keys sorted by the given criteria.\n",
        "\n",
        "    :param league_id: Yahoo Fantasy League ID\n",
        "    :param access_token: OAuth2 access token\n",
        "    :param sort: Sorting criteria (default: \"AR\" for actual rank)\n",
        "    :param status: Player status filter (default: \"A\" for all players)\n",
        "    :param count: Number of players to fetch (default: 50)\n",
        "    :return: List of player keys\n",
        "    \"\"\"\n",
        "    headers = {\n",
        "        \"Authorization\": f\"Bearer {access_token}\",\n",
        "        \"Accept\": \"application/json\"\n",
        "    }\n",
        "\n",
        "    player_keys = []\n",
        "    start = 0  # Yahoo returns 25 players per request, so we fetch with a for loop\n",
        "    for i in range(count//25):\n",
        "        url = f\"https://fantasysports.yahooapis.com/fantasy/v2/league/nba.l.{league_id}/players;sort={sort};status={status};start={start}?format=json\"\n",
        "\n",
        "        response = requests.get(url, headers=headers)\n",
        "        if response.status_code != 200:\n",
        "            print(f\"Error {response.status_code}: {response.text}\")\n",
        "        data = response.json()\n",
        "\n",
        "        # Extract player list\n",
        "        players = data[\"fantasy_content\"][\"league\"][1][\"players\"]\n",
        "\n",
        "        for count in range(25):\n",
        "            player_key = players[str(count)]['player'][0][0]['player_key']\n",
        "            player_keys.append(player_key)\n",
        "\n",
        "        start += 25  # Move to the next batch\n",
        "\n",
        "    return player_keys\n",
        "\n",
        "def fetch_player_stats(league_id, access_token, player_keys, dates):\n",
        "    \"\"\"\n",
        "    Fetch player statistics for multiple dates and return as a dictionary.\n",
        "\n",
        "    :param league_id: Yahoo Fantasy League ID\n",
        "    :param access_token: OAuth2 access token\n",
        "    :param player_keys: List of player keys\n",
        "    :param dates: List of dates (YYYY-MM-DD) for the statistics\n",
        "    :return: Dictionary with player keys as top-level keys and stats for each date\n",
        "    \"\"\"\n",
        "    stats_dict = {\n",
        "        \"9004003\": \"FGM/A\",\n",
        "        \"5\": \"FG%\",\n",
        "        \"9007006\": \"FTM/A\",\n",
        "        \"8\": \"FT%\",\n",
        "        \"10\": \"3PTM\",\n",
        "        \"12\": \"PTS\",\n",
        "        \"15\": \"REB\",\n",
        "        \"16\": \"AST\",\n",
        "        \"17\": \"ST\",\n",
        "        \"18\": \"BLK\",\n",
        "        \"19\": \"TO\"\n",
        "    }\n",
        "\n",
        "    headers = {\n",
        "        \"Authorization\": f\"Bearer {access_token}\",\n",
        "        \"Accept\": \"application/json\"\n",
        "    }\n",
        "\n",
        "    # Convert player_keys list to a comma-separated string\n",
        "    player_keys_str = \",\".join(player_keys)\n",
        "\n",
        "    # Dictionary to store player stats\n",
        "    player_stats_dict = {}\n",
        "\n",
        "    for date in dates:\n",
        "        url = f\"https://fantasysports.yahooapis.com/fantasy/v2/league/nba.l.{league_id}/players;player_keys={player_keys_str}/stats;type=date;date={date}?format=json\"\n",
        "\n",
        "        response = requests.get(url, headers=headers)\n",
        "        if response.status_code != 200:\n",
        "            print(f\"Error {response.status_code} for date {date}: {response.text}\")\n",
        "            continue  # Skip to the next date if an error occurs\n",
        "\n",
        "        data = response.json()\n",
        "\n",
        "        try:\n",
        "            players = data[\"fantasy_content\"][\"league\"][1][\"players\"]\n",
        "\n",
        "            for player_entry in players.values():\n",
        "                if isinstance(player_entry, dict) and \"player\" in player_entry:\n",
        "                    player_info = player_entry[\"player\"]\n",
        "\n",
        "                    player_key = player_info[0][0][\"player_key\"]\n",
        "                    player_full_name = player_info[0][2][\"name\"][\"full\"]\n",
        "                    display_positions = player_info[0][11][\"display_position\"]\n",
        "                    player_url = player_info[0][3][\"url\"]\n",
        "\n",
        "                    # Initialize player entry if not present\n",
        "                    if player_key not in player_stats_dict:\n",
        "                        player_stats_dict[player_key] = {\n",
        "                            \"player_name\": player_full_name,\n",
        "                            \"player_url\": player_url,\n",
        "                            \"positions\": display_positions,\n",
        "                            \"stats\": {}\n",
        "                        }\n",
        "\n",
        "                    # Extract stats for this date\n",
        "                    player_stats_dict[player_key][\"stats\"][date] = {}\n",
        "\n",
        "                    for stat in player_info[1][\"player_stats\"][\"stats\"]:\n",
        "                        stat_id = stat[\"stat\"][\"stat_id\"]\n",
        "                        stat_value = stat[\"stat\"][\"value\"]\n",
        "                        stat_name = stats_dict.get(stat_id, f\"Stat {stat_id}\")  # Map to human-readable name\n",
        "                        player_stats_dict[player_key][\"stats\"][date][stat_name] = stat_value\n",
        "\n",
        "        except KeyError:\n",
        "            print(f\"Error parsing player data for date {date}.\")\n",
        "            continue\n",
        "\n",
        "    return player_stats_dict\n",
        "\n",
        "def generate_last_n_days(n, end_date=None):\n",
        "    \"\"\"\n",
        "    Generates a list of the last N days before the given end_date in 'YYYY-MM-DD' format.\n",
        "\n",
        "    :param n: Number of past days to generate (including end_date)\n",
        "    :param end_date: The last day in the interval (YYYY-MM-DD), default is today\n",
        "    :return: List of dates as strings\n",
        "    \"\"\"\n",
        "    if end_date:\n",
        "        end_date = datetime.strptime(end_date, \"%Y-%m-%d\")\n",
        "    else:\n",
        "        end_date = datetime.today()\n",
        "\n",
        "    return [(end_date - timedelta(days=i)).strftime(\"%Y-%m-%d\") for i in range(n)]"
      ],
      "metadata": {
        "id": "j3n8zOhGs9iM"
      },
      "execution_count": null,
      "outputs": []
    },
    {
      "cell_type": "markdown",
      "source": [
        "To obtain `client_id` and `client_secret` for using the Yahoo Developer API in a Python notebook, follow these steps:\n",
        "\n",
        "**1. Create a Yahoo Developer Account**\n",
        "\n",
        "Go to the [Yahoo Developer Network.](https://developer.yahoo.com/)\n",
        "Sign in using your Yahoo account. If you don’t have one, create a new Yahoo account.\n",
        "\n",
        "**2. Create a New App**\n",
        "\n",
        "Navigate to the [Yahoo Developer Apps](https://developer.yahoo.com/apps/).\n",
        "Click \"Create an App\".\n",
        "Fill in the required details:\n",
        "Application Name: A name for your app.\n",
        "Application URL: Can be any valid URL (e.g., http://localhost).\n",
        "Description: Describe your app’s purpose.\n",
        "API Permissions: Select the API you want to use (e.g., Fantasy Sports for Yahoo Fantasy Sports).\n",
        "Redirect URI: Enter a valid redirect URL (e.g., https://localhost:8080).\n",
        "OAuth Client Type: Choose \"Confidential Client\" option.\n",
        "\n",
        "**3. Get client_id and client_secret**\n",
        "\n",
        "After creating the app, you will be redirected to the app details page.\n",
        "Under API Key Details, you will find:\n",
        "\n",
        "Client ID: Your unique identifier.\n",
        "Client Secret: A secret key used for authentication."
      ],
      "metadata": {
        "id": "eF2HSzRbDKYb"
      }
    },
    {
      "cell_type": "code",
      "source": [
        "# Your Yahoo API credentials\n",
        "CLIENT_ID = input(\"Enter your client id: \")\n",
        "CLIENT_SECRET = input(\"Enter your client secret: \")\n",
        "TOKEN_URL = \"https://api.login.yahoo.com/oauth2/get_token\"\n",
        "\n",
        "REDIRECT_URI = \"oob\"  # Out-of-band for manual copy-paste\n",
        "\n",
        "AUTH_URL = \"https://api.login.yahoo.com/oauth2/request_auth\"\n",
        "TOKEN_URL = \"https://api.login.yahoo.com/oauth2/get_token\"\n",
        "\n",
        "# Yahoo OAuth session\n",
        "oauth = OAuth2Session(CLIENT_ID, redirect_uri=REDIRECT_URI)\n",
        "\n",
        "# Get authorization URL\n",
        "auth_url, state = oauth.authorization_url(AUTH_URL)\n",
        "\n",
        "print(f\"Go to this URL and authorize the app:\\n{auth_url}\")\n",
        "\n"
      ],
      "metadata": {
        "id": "Z17mjQWysrUb"
      },
      "execution_count": null,
      "outputs": []
    },
    {
      "cell_type": "code",
      "source": [
        "AUTHORIZATION_CODE = input(\"Enter the authorization code from Yahoo: \")\n",
        "\n",
        "# Exchange code for token\n",
        "token_data = {\n",
        "    \"client_id\": CLIENT_ID,\n",
        "    \"client_secret\": CLIENT_SECRET,\n",
        "    \"redirect_uri\": REDIRECT_URI,\n",
        "    \"code\": AUTHORIZATION_CODE,\n",
        "    \"grant_type\": \"authorization_code\",\n",
        "}\n",
        "\n",
        "response = requests.post(TOKEN_URL, data=token_data)\n",
        "token_info = response.json()\n",
        "\n",
        "# Extract tokens\n",
        "ACCESS_TOKEN = token_info.get(\"access_token\")\n",
        "REFRESH_TOKEN = token_info.get(\"refresh_token\")\n",
        "\n",
        "print(f\"Access Token: {ACCESS_TOKEN}\")\n",
        "print(f\"Refresh Token: {REFRESH_TOKEN}\")\n"
      ],
      "metadata": {
        "id": "LiRjfCp2sghl"
      },
      "execution_count": null,
      "outputs": []
    },
    {
      "cell_type": "code",
      "source": [
        "def refresh_access_token(refresh_token):\n",
        "    refresh_data = {\n",
        "        \"client_id\": CLIENT_ID,\n",
        "        \"client_secret\": CLIENT_SECRET,\n",
        "        \"redirect_uri\": REDIRECT_URI,\n",
        "        \"refresh_token\": refresh_token,\n",
        "        \"grant_type\": \"refresh_token\",\n",
        "    }\n",
        "    response = requests.post(TOKEN_URL, data=refresh_data)\n",
        "    return response.json().get(\"access_token\")\n",
        "\n",
        "# Refresh token when needed\n",
        "ACCESS_TOKEN = refresh_access_token(REFRESH_TOKEN)\n",
        "print(f\"New Access Token: {ACCESS_TOKEN}\")\n"
      ],
      "metadata": {
        "id": "ogboNf2HsqVG"
      },
      "execution_count": null,
      "outputs": []
    },
    {
      "cell_type": "markdown",
      "source": [
        "Enter your leage_id and team_id below. You can find these variables in the url when you click My Team. E.g. https://basketball.fantasysports.yahoo.com/nba/9515/5 Here 9515 corresponds to league_id and 5 corresponds to team_id."
      ],
      "metadata": {
        "id": "pjkTgYTVCLOl"
      }
    },
    {
      "cell_type": "code",
      "source": [
        "league_id = 9515 # Enter your own leage_id.\n",
        "team_id = 5 # Enter the number of your team.\n",
        "team_players = fetch_team_players(league_id, team_id, ACCESS_TOKEN)\n",
        "top_players = fetch_top_player_keys(league_id, ACCESS_TOKEN, sort=\"AR\", count=25)\n",
        "team_players_stats = fetch_player_stats(league_id, ACCESS_TOKEN, team_players, generate_last_n_days(10))\n",
        "top_available_players_stats = fetch_player_stats(league_id, ACCESS_TOKEN, top_players, generate_last_n_days(10))"
      ],
      "metadata": {
        "id": "Omry-VoIswwq"
      },
      "execution_count": null,
      "outputs": []
    },
    {
      "cell_type": "code",
      "source": [
        "def generate_prompt(team_stats, top_players_stats):\n",
        "    prompt = f\"\"\"\n",
        "You are a Yahoo NBA Fantasy Basketball assistant. Analyze the recent performances of my team and suggest player moves.\n",
        "\n",
        "### My Team's Players:\n",
        "{json.dumps(team_stats, indent=2)}\n",
        "\n",
        "### Top Available Free Agents:\n",
        "{json.dumps(top_players_stats, indent=2)}\n",
        "\n",
        "### Tasks:\n",
        "1. Identify the weakest players on my team based on the last 10 days of stats.\n",
        "2. Suggest which free agent players I should add, considering my team's weaknesses. Suggest me at least 5 players to add.\n",
        "3. Consider balance across all stat categories (e.g., points, rebounds, assists, FG%, turnovers).\n",
        "4. Provide a clear **Add/Drop** recommendation with reasoning.\n",
        "\"\"\"\n",
        "    return prompt"
      ],
      "metadata": {
        "id": "LddYGHZsvCl4"
      },
      "execution_count": null,
      "outputs": []
    },
    {
      "cell_type": "markdown",
      "source": [
        "You can use your own Google AI Studio API key or choose any other LLM API."
      ],
      "metadata": {
        "id": "t_HljScWIUuB"
      }
    },
    {
      "cell_type": "code",
      "source": [
        "import google.generativeai as genai\n",
        "\n",
        "genai.configure(api_key=\"\") # Write your own key.\n",
        "model = genai.GenerativeModel(\"gemini-1.5-flash\")\n"
      ],
      "metadata": {
        "id": "PPIWPRPKuUUR"
      },
      "execution_count": null,
      "outputs": []
    },
    {
      "cell_type": "code",
      "source": [
        "prompt = generate_prompt(team_players_stats, top_available_players_stats)\n",
        "response = model.generate_content(prompt)"
      ],
      "metadata": {
        "id": "8CZTdiS13Yoo"
      },
      "execution_count": null,
      "outputs": []
    },
    {
      "cell_type": "code",
      "source": [
        "print(response.text)"
      ],
      "metadata": {
        "colab": {
          "base_uri": "https://localhost:8080/"
        },
        "id": "Ov6iEYFO3lak",
        "outputId": "8cdecc10-55eb-4139-e15c-d8f472984c45"
      },
      "execution_count": null,
      "outputs": [
        {
          "output_type": "stream",
          "name": "stdout",
          "text": [
            "Based on the provided data, here's an analysis of your team and recommendations for player moves:\n",
            "\n",
            "**1. Weakest Players:**\n",
            "\n",
            "The data shows incomplete stats for the last 10 days, making a definitive assessment challenging. However, based on the available data, here's a ranking of players by recent performance (considering only games with available data):\n",
            "\n",
            "* **Luke Kennard:** While he shows some decent assist numbers, his scoring is inconsistent and low.  His recent games have been a mix of decent output and very low.\n",
            "* **De'Aaron Fox:**  Shows inconsistency in scoring and high turnover numbers.  His FG% is also worrisome in the games played.\n",
            "* **Chris Paul:**  Similar to Fox; inconsistent scoring, but the assists are a strength. However, his scoring is lacking and the turnovers are an issue.\n",
            "* **Julian Champagnie:** Shows inconsistent performance but has high upside in some games, particularly in 3-pointers and blocks.  The inconsistency is problematic though.\n",
            "* **Tobias Harris:**  Generally consistent, with good scoring and rebounding, but hasn't always performed to expectations. His FT% is also a concern.\n",
            "* **Trey Murphy III:**  Shows promising scoring and assists but inconsistent and high number of turnovers.\n",
            "* **Mason Plumlee:**  Consistent rebounder, but his scoring is quite low.\n",
            "\n",
            "\n",
            "**2. Suggested Free Agent Adds:**\n",
            "\n",
            "To address the weaknesses, I suggest focusing on consistent scoring and reducing turnovers.  Here are 5 free agents to consider, prioritizing scoring consistency and all-around contributions:\n",
            "\n",
            "\n",
            "1. **Goga Bitadze:** He provides a needed boost in rebounds and blocks. While not a high scorer, he is more consistent than your current center.\n",
            "2. **Cason Wallace:** His assist and steal numbers are good, filling the gaps in your team's consistency.\n",
            "3. **Kris Dunn:**  Offers solid assists and steals, along with surprisingly good rebounding numbers. High potential for steals and assists.\n",
            "4. **Kentavious Caldwell-Pope:**  A decent option if you need a consistent mid-range scorer and solid defender.\n",
            "\n",
            "\n",
            "**3. Add/Drop Recommendations:**\n",
            "\n",
            "\n",
            "* **Add:** Goga Bitadze and Kris Dunn.  Bitadze addresses your center position and improves rebounding and blocks. Dunn brings in much-needed steals and assists, which are currently lacking in your team.\n",
            "* **Drop:** Luke Kennard.  His recent performance is too inconsistent, and his scoring is not filling a vital role.  Although he has shown high assist numbers in some games, there are many other options for that category available.\n",
            "\n",
            "**Reasoning:**\n",
            "\n",
            "The combination of Bitadze and Dunn provides the necessary improvement in rebounding, assists, steals, and blocks, mitigating the weaknesses highlighted in the team analysis.  Dropping Kennard is the more reasonable decision as he is providing inconsistent scoring, and you can find much better steals and assists options in the free agent pool.\n",
            "\n",
            "\n",
            "**Important Considerations:**\n",
            "\n",
            "* **Injury Reports:** Always check for injury updates before making any roster moves.  The provided data might not reflect the true potential of a player due to injury or resting.\n",
            "* **Upcoming Schedule:**  Consider the upcoming schedule of your players and free agents.  Look for players with favorable matchups.\n",
            "* **Positional Needs:**  While the above recommendations focus on overall statistical balance, ensure you maintain a well-rounded lineup of positions.\n",
            "\n",
            "\n",
            "\n",
            "This analysis provides a starting point. Use this information in conjunction with your own knowledge of player trends and league dynamics to make the best decisions for your team. Remember to continuously monitor player performance and adjust your roster accordingly.\n",
            "\n"
          ]
        }
      ]
    }
  ]
}